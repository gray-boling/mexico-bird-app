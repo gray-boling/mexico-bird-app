{
  "nbformat": 4,
  "nbformat_minor": 0,
  "metadata": {
    "colab": {
      "name": "app-display.ipynb",
      "provenance": [],
      "collapsed_sections": []
    },
    "kernelspec": {
      "name": "python3",
      "display_name": "Python 3"
    },
    "language_info": {
      "name": "python"
    },
    "widgets": {
      "application/vnd.jupyter.widget-state+json": {
        "efc2cbf5ed394245a18b2f90e8f4ea1b": {
          "model_module": "@jupyter-widgets/controls",
          "model_name": "VBoxModel",
          "state": {
            "_view_name": "VBoxView",
            "_dom_classes": [],
            "_model_name": "VBoxModel",
            "_view_module": "@jupyter-widgets/controls",
            "_model_module_version": "1.5.0",
            "_view_count": null,
            "_view_module_version": "1.5.0",
            "box_style": "",
            "layout": "IPY_MODEL_9504500159844d778de70afc422dd523",
            "_model_module": "@jupyter-widgets/controls",
            "children": [
              "IPY_MODEL_b1917f7101a541c39058e61fc78c9a3e",
              "IPY_MODEL_031af820e13c43f1b0b792e61cce78f2",
              "IPY_MODEL_bd7a65c9c8f04ef4ac4e27d3a45c03e8",
              "IPY_MODEL_7a665322591647688a4e38d3610672dd"
            ]
          }
        },
        "9504500159844d778de70afc422dd523": {
          "model_module": "@jupyter-widgets/base",
          "model_name": "LayoutModel",
          "state": {
            "_view_name": "LayoutView",
            "grid_template_rows": null,
            "right": null,
            "justify_content": null,
            "_view_module": "@jupyter-widgets/base",
            "overflow": null,
            "_model_module_version": "1.2.0",
            "_view_count": null,
            "flex_flow": null,
            "width": null,
            "min_width": null,
            "border": null,
            "align_items": null,
            "bottom": null,
            "_model_module": "@jupyter-widgets/base",
            "top": null,
            "grid_column": null,
            "overflow_y": null,
            "overflow_x": null,
            "grid_auto_flow": null,
            "grid_area": null,
            "grid_template_columns": null,
            "flex": null,
            "_model_name": "LayoutModel",
            "justify_items": null,
            "grid_row": null,
            "max_height": null,
            "align_content": null,
            "visibility": null,
            "align_self": null,
            "height": null,
            "min_height": null,
            "padding": null,
            "grid_auto_rows": null,
            "grid_gap": null,
            "max_width": null,
            "order": null,
            "_view_module_version": "1.2.0",
            "grid_template_areas": null,
            "object_position": null,
            "object_fit": null,
            "grid_auto_columns": null,
            "margin": null,
            "display": null,
            "left": null
          }
        },
        "b1917f7101a541c39058e61fc78c9a3e": {
          "model_module": "@jupyter-widgets/controls",
          "model_name": "LabelModel",
          "state": {
            "_view_name": "LabelView",
            "style": "IPY_MODEL_912e5289efc9451c8ac585e5a323b054",
            "_dom_classes": [],
            "description": "",
            "_model_name": "LabelModel",
            "placeholder": "​",
            "_view_module": "@jupyter-widgets/controls",
            "_model_module_version": "1.5.0",
            "value": "Select an Image of Malaria Parasite!",
            "_view_count": null,
            "_view_module_version": "1.5.0",
            "description_tooltip": null,
            "_model_module": "@jupyter-widgets/controls",
            "layout": "IPY_MODEL_1672182af530472497f0a2ff64a024f4"
          }
        },
        "031af820e13c43f1b0b792e61cce78f2": {
          "model_module": "@jupyter-widgets/controls",
          "model_name": "FileUploadModel",
          "state": {
            "_view_name": "FileUploadView",
            "_counter": 1,
            "style": "IPY_MODEL_4e26e372e7824ae8a84e47933dff7a4a",
            "_dom_classes": [],
            "description": "Upload",
            "multiple": false,
            "_model_name": "FileUploadModel",
            "data": [
              null
            ],
            "button_style": "",
            "_view_module": "@jupyter-widgets/controls",
            "_model_module_version": "1.5.0",
            "accept": "",
            "_view_count": null,
            "disabled": false,
            "_view_module_version": "1.5.0",
            "error": "",
            "description_tooltip": null,
            "metadata": [
              {
                "name": "image_750x_5f1317008199b.jpg",
                "type": "image/jpeg",
                "size": 77468,
                "lastModified": 1627408877129
              }
            ],
            "_model_module": "@jupyter-widgets/controls",
            "layout": "IPY_MODEL_186fbc2fc48f4f3a9a96f58220e9ee1b",
            "icon": "upload"
          }
        },
        "bd7a65c9c8f04ef4ac4e27d3a45c03e8": {
          "model_module": "@jupyter-widgets/output",
          "model_name": "OutputModel",
          "state": {
            "_view_name": "OutputView",
            "msg_id": "",
            "_dom_classes": [],
            "_model_name": "OutputModel",
            "outputs": [
              {
                "output_type": "display_data",
                "metadata": {
                  "tags": []
                },
                "image/png": "iVBORw0KGgoAAAANSUhEUgAAAIAAAABVCAIAAAAOr3sAAABipElEQVR4nDX8V5BtW3YdiM0519r++HMy86TPvHm9effe501584CCB0EQTYpkk90RVKibVHdIEZI+9MPQj4LRVIjdTYpoNBgiCQE0MIVCVQGoV/Ve1fP2ep/2ps/j3fZrramPW/1zYn+c/bP32nOOOczE3/ifLkDizHu/PF85m9LTKK1NzPTgcK+sNYBZac6X7HI8Pjl94dy7n9/s9rvAKk+NUbklkUgCgCS0iJXKU82sQRlINeZaC6F910LbNYCcszEiKMLK2bWHtw8DiUurofLy/V1reGxMipIUEv7S18/+jV//ld/799/bbx/5th0l6WF3iEKiEEIIZmMYcs1sGIVCRBIMBJaQZcct+954NE7SNGOtldKM2gAYg2gYENlGNrnOcmM0GEQWmgCERjCgUIKUSIKABEnhCouRgZkBEBE1k2HFDMxgjGZNAlzLQZAMhGCIIY3TySiJx/mF589+7Ze+OYitp0dHOlu3rTObrf14uOfqcKpan52a3ni8+fjewC5V/fqUsB3pTrPLuspnGuWzhqvjcRui/Qltt1pmbeHMwvzS3tbBfNE66Q2SNLJtylPLtxK/WAxjI8myrQRIxRErRkQkl5F0NmEHrcVTKzOLS3t7e8PewC4VQLHKJ2GkXQ8ufWkXTm/2JoWgPmO2i/2HkEbCdu27u5vXW5+9+a2vHY8PV6ZmfvjOByfDnCwNSIgAgBJRWKw1C5SB43sErDJhW2OV7g1iZGbB2gAgsmHUgIQkpQDSbLTWYASyJjZKmzzLgAksiQIZkIgkIRoGzRo0EBAAMGptSBsCJGRmZmOQDSDmWqFEEiCRWQEDGmANqtyoH7cmGw+3B/h+Hh5WrWtxt9OLu6uL8ysLizsPDrbuHOmMlOqOB2Mglk62uFhdrcKUH7gnHbHVuzMYxvGEy5Wp2elmKahMN8Z2gE8Pdy3bsckARBVPNWeqSVaX0o35aDBeNyRBARMr5gxHis2F099qnr40nmwVKnqYpqJcqwcznKWigJXzpbZ/EB1nYddGNa7P6BV/ub3OnWHSeao/v/VoZa3y4c3Dd/r3T3ody0ZEkSMTkZQkEBwEn4Tr2LniURyOsyhPTWYUkXSFQAAyzIYFAArSFoIAMgisDQIyogLUWmVGpTkwWMYACUIympXFliUBgA0gGAACNmg0MTIDIwIgMgOAZgNkkBWgybQGLZRhABACP3vvRvbTO9KMgulof73A5okQdPnLzuIqtnc3x/vjJEWQFgpCUmCEnHNKC+IbmEDFUtOLUyZdvjN84lruXGN6fuXMINK1kt+KB53EDI3GtFfE9UiZcFRglcdZ0td6Qn7qjrvpOKNIGgpMYX56YWp2ZfPRjcd7fzk/txxi+OjujbpXPzt74eqpC3daanL8IqhOlraMs3f11NXXVl4J+4U///NPpR4kkf397719cqxRGrIlWFIAe4J8z65Y0rWsLFP9JOqOxnGeaa1AGTAawUhURhoiIgYtCAgZiYgFATASSDKa0BAKlVg6z3I2YAxkSkiLpGUMgSE2Gg2wMYaZEdkY1sYgIhgEYhaGGCzSYJDZNoy5NgxgmAgd20WFSZLEoVIK2y3LKKVZEoiTbTW7mAlhyJFIQESAgMBMWq4/zHf4x+fnntvYefLS5ZVrly/1ij9oyFea8vrG8e3kZO/K6ec2h/ubowEaG5XXy+eSMJyy9882ZmyBUgaJVgf9Tg4hCbatoFRouDTz5PanpWnNmTrc3VYqa/ga5OFJ6N7+HFoRBDOlab95vHdr4nc+oh/eP35fDC4rszBTcBZOTT/ejtiEtkVV3yv4juOQL1EBD6PJ8Tgca50ZFkRSSAkMmjWj0pwbJTM0koCIJQoUjICETAAGAQgJSWpkAGGEBEHMuTJMRGyQLTBMoBlkBlobBDQIgAgGmLUBNEYDGGMBGoGCkIEYwLAkgUJoC9CgTkmStEjkWkNuQAsBRotk54Ec99LF2d7K3Jy738q0MigFkSSQg5Yse6Ojw52V+dUvnn4I7fZc+dKVxe+M4+rx7R8s+aXN8Xt55UGya9fl8tTMGZPUOuapwYG7VknU2ITa6nMhLUlRREDD8PTgcLGGi3OzXdOan3FMrPPMB1Mki5EKh0e50Vbg4t54vzsY5+NpKztdbpTHrR1LDY4nzUHWPXumNm37ROC4Luu8n0WdUKXGpD8/mUBIDNqQYqU1aEajjWGjDSMqJCkEChZkWBEgAgkSuQFgRIOQG1AalEalVJYzWGixNMAa8wyINCOjYTDGgAFE0ECGDSIQAgAAojFoCUVogKUlJJEFAsGwMiCMBgDSAlODignYgDYSAXvtwWzFKXklh+xcGQQAiRahlF4QJulUQTQXznWOXCtbmLbPMc9vHH8hC5me/mJET4fdkiUG9WCBZKQlN6eX5ufPT81X7j2+rRMRxlj2Z6QVd+Le3sm+ypWVZSXXUGAQAib2vErZnSr5Dsg8KXE2lsoNjUu1fLoVtjLIMXIryQUDLI0+aR8uXmiMo3T9XggEwpXkSiAwJMgggGEQDKxyo5QyRrHKOdWQGwCDAi2UiIKJFDIigADDzFrlBoENm1zluUmZ01zlkGtBoIwSWiD+HGxJIxENszIm06DZKDYGQZAQAgVirkEwGKNcm5iBkTUzGAJgBBRghGYHRU5pxmixThENoA2sTbFQ6k4mIx2SWwBgBp2hlOO2rhWpUqkdjXIhHZXxdnvcj29/cf/dSXgUOZvgZ2E8NdOoFcT0/Z07Wg1cy/UnF71+zsPYpAaZKw3PuNocqbX58zXpFx1pM5W9WsOZH3RD1KTinFylnW2rnA0fTvd2oHxm2spVwRQ9AUeHYXSIQMqXKv5Yhi1xuBtl7FiWyxYIMJZ0cmUUKhQGALTWgIYQDRsJaBDQIgCQgixpgW1rC4wAQgBknRtWxjABG87ZKGM4ZwACYTELgYKBGIQlhC+FbUkgUjoHEAYM58aQyUCT0pKFpGeoU2omzSSQDACAQWBiJpRCnLnkrFxaufez3vb2wdrFi5++e8Pz+Nxrr2/dvuNXnayo5q5Pua5nKae915+MInl2uVGt0eLsdC9th72BTrvGvt1WJ24jjceVztaruT0xrNDGpLR+qsrGmo5DOemp3XA8jCt5pmZmpnzPGacFrUbsq5jio+5+EMhvNn+917K2tm9nKgVprZV81xtkxYOkEIwP5/R+qiKNiZONjcryZzAv0nh4bCaDiV90az65nmWESXUOzAyaJIMBNsYmQAtybSQJtJABENi2HCIEQCMRJFoCmY3OjcoNZwpzw4BGadAadI4MxMysJYEQICWhJUBKEkICGg02skLOQTGC0ibLFeRs2Wg7EoGABOfGsMoZSYIgNgryXEsJU2uuM5OtvnT+wmtfYiNufnLPtiKv5L/wzS/v772r45gKtuOJWmN68fTcvU8fSe90ly13c7jV3sliEzkzh/1418lByPLy8wZMc+txKckwSRLXO752eoXSq52OiAwejLrHkUojvdffOLvStITgTOyPdks16RTcbjL68c23o8NSmolEcUGYojvVb8/7paFRGUGWj9kYxVqrDAwQUi4QkcESIgeKlNEKsywBgdpiYzIhBLJgg2yQjdbaACLZFmiDRKC1FoRCEAAIAGDQYLSB3FBuVKpMpg0j60wrpZXhHFAxImpmZFDMklk+GzcIwJHPqrrOZKo41Qo1AhlFhGgsRmADAoCROfddx7KdMA41AKKJ0/7mUwJYQ80wGdkF+7mXz53sPG42gpLjR+O83xtTarlo1Vbn3vjaFTno9wVaPBKjgfEqdq5zTKoafZVRu6eD+mF5ZkEdB2REnM/uJccFk1ca1x3pbcY8iSf5qGc5qjuU1ULRSkXNmY2Ttl9PhBJax0SOAGkJRMqCIn7xM8fZvqxHQoAypIEJiVgrYoNIQkgbgBCQUWudalZsiMkCKQwYMAaMYc2GjTHGMDCQYRACARFBCkFSMBiU6CAZBdpow8zaGGWM5lxrNsZoyjWy1gwMiIaRNSIzIEgiIZFsSUyQCcgMYKZQa4OSgUCREoiGURtpI1hgWEjHKpaW1mbjSdSPOFZZpEYHR7h7+ChnjZhXzzVPXVj1Lfnoxv1Xr662eGZ383HUGQ8O4myYX3v5kqRRKRlnPrIPGtMctaU0x1lB5QfKJAAzwilLYRFmmMp4rDLrpJN9EIv1eDwvw0axrKZrbhYPup3jDNNmtemWL6ZiOI7V6CAWWlFgWZ6dg9o67GQK4gPpuCytjI1hIGEZISUaLhYp5zgbSGEsIpBsJBsJNiPkrJE1ajAoDDCiBiQygo1CAMOGkVEQSAR6xjoQAACzYqO04lwbxUYZoxQzPwOtCJwDMtgIJAQJKQQCszGIgIAMDIxEJARijqiYNRsBUjAAGySDElVQx9pqzaos2NXqSfejzqBr+fOdvne4f5xEKEgoROM6k1Go8qg+XTds7Wzu5ZlGlPkAtm4exQMtK+Z0DnoY97vDvuqbKQ/sqSTRtlCuEMFocCbP6sKP00hNIjXuBVM1x/WHIWfFYqdsWdVKw6LS49tPLDSlxgIV55ygGh/ZdhyJTMWSLZtBUs5ee6Qri1Pjo4FKYqFUsTmF1dJiRRSlc+fWemE2SuJITQpgckQmIkQ0DKTBBbSksG3bZsp1DgYN60SDNiQsGxGZOCfOAFKVA2tBkILmXJs0h0xznhutjWYyxuRoNBpDgCiZAQCJJRpi0plWUlMuEI3ROeesjSZBjoXokLaQjWAU8tlYnOvGQhHm0uPwnu4/OdjlcLyn0o49mrOK54BzzyE2ssBQR2f94VbNMWfW5j3GLAZgIhKIhhM+ftCTRzu7ge0NxmEco2f7VlqP9rk3ejBdmRFYCXVxFBsYhq5MgcHk7jjyo4THSdWwIuzECcxPFZuL53uDiQlmTsYcmfGof1j0ssKy9K0C554Iqgqp4BYczyXbam9u106vWMuL/bg/teQFKSwtTp8cd4ZdYRmWQlnCdh3HsUTRtkmKPMvznFOdh0pnRpHRxJxqo3QujXl2TIWggrQDkpnOkyzVeQqaSSFoNIzGMACTJg2swQAxAhECPoMwho0ygEiZMdIAazKacmQNNhG5rkSZG8UswABoRWzcQmn21PVIDKPuI7biTA/JEW6y6un50QSkIzzwAELX6dcagWRYLBXjk7EoWEFFJkKyYtYWGgWQy+Nh6FvZ8vJ8t905bndatzqO63rFcjfLykUjcSQSIB0JgcL1PK/MwrSHPRUnDlHGOuYOKeV7TbtYZNv1SMSTw374pDNWXqF66lT9zPSVnP2E5DDRnYP9tNubmq5milu37tUrHMmZu/cOCYQNbiCN71Cx4PuOZ1ineTwO0xCyzGiDaEupgTLWxJoNaq0FMBMzaGUYGGSWyhwcISu2F2p7mI5zbVixyYE1s2Y0CIiSkI1mQgJpWOfAACQZkdHknEbakWgDGAYEJBJCIEtGjZqNBq21ISRGenz7YVDU3rTQjKh9Oa5xL6Ci9EuJyUOdjUzei8dRUigFQfXHN37W8MoXy2fOvFD0h2nacwa7kcmNQZQZuZ7P566svf+JiTqD8oxTqVk5G6VKxxOyMPEESDZGkSA3ncT99m6eTyzpCcfPstTorB8zFFH4MDrpOJacqfuJ54/DMWRx93jrheUrxWIpydRuONnd20+jQy7aarxnK1JZ9cbejgS1MjvlgIntwrAftdu9mJVB4/oOeRYK1EZrQAAGEEAADKCUVswIEjUDMjBqzpgzw0mexioteNWm7Y9GvWE0ydOUDQAACLYFsSajhEZkRGMYgYkABRAyscE81xoVIZJGRDCMiokInvHSwMzMDPEoFDA2IdPQIyhJjToXoJTTCFVlw8pSHnkm9TyeS0Z5N7w9cYZugQY0FD5MBY6/On9UCMPeRDkoKzU9V5va3z8+PD6ql61qTSfmRGVSuE3NQZpnLhoZR45O0Cnv7h3qcdezZC5MlPYNpNKGCI1KbeB266TnCGy89ly1PONI2/K9XJhbW+8ftWKLSPWkgpzm8pAGDLkUAjGvZvPL06eSKHq6ux9N4jxVBgElCc/SwEZnQjFoAARlS0IiQEREFEjGABhEYrCBnwEdw8wAE6Umg2OpZMkNFpsLJ73BYNBHYBSACIBACIhaERJq8Yxl04AAgowQaMjkAGRAElnALFGBfIbBAIwG4NyAIQ2UpcLKLBYIRAykhYxUlKQ5ZkVg20HPNthcLphgxT0eFV1fGei2+sVS2a/TwuXljf14ErMslttRnGoYNCpZEGgNbZtktdzMEZVRCYMyTCgm405gUcl3R1khzXJpjFuoG22kGTsV18I4jygIsN4IDtpPpEOWcFw5I2UaZRMDSZyx49TzXEfjnrbRth0pJVmmXLQOW+1Bv5/FyigEgUgaBBlibQylhIDGAFgoQRgkeMYikpLimVwiAAwhoYVaQc5KakBlcqMVm3iUWmHYqExPVauHRwdxnGgCBCZJjCgZEYTR2oAhJgYCkiAEgiCjLQSDgpHEs5maNWs2hpTKf/5nQ2CEEQBg2IAhoQ3yQUNAWTqaME27TA7Ozq700qHnxNOVWrprecrqjnU46TgB5JksBEU5nPSYD/xCMrW6lI+KrCzHKxoa6Hxgy1WV2UIIdt1+nLce3gsqdac8HSEx0/TceW0Vov7Dc2fqliy1dvfLCWQij6OsJsvNmfnOuJviwC6RUygPj3K/WA8cD8MxJGyzXQxKrrvUGzvD4YEwGtggMSIBCSUY8NnBQs1GsxEaOGUgwyQMA6JiNojISis0IBCJySZpBBEDslSS0RgySRrtH257loUArAFQABoG/XPozyiFJAnkCGkJsi0hpVGGtGEmNKgZctDMihiNZtZGAAEKJpQIiAQgtWEDmkwOYJsY2cg8ViqTeZI4FhJqMEnBd2rV8vb9VrnsjZU7GAxMb2sSxbYoyZlpvzXspspkHIFE3xuzCLW0hAhEOACsANoEaBSr1PROTopCUtAgrXGyXw8qC/NrVb8Qpcov11wH41zlqh9l7cFYqkSRBZzLIJByxtvePAiKgcRm3eZmzWEvaHVzWZbN83VI8lFroA2RNCbBvJdBbrSAHPUzMK8VZ8CEIKVhZIEIxCAB0SABEBoAZrCERAItNBCo1HDGmIM2MApjA0QAqFiQUWiABCAwEliGPcuSlkQAZEQthQEmo8Eo/fN5D0AzswHBpBHJABMSWgDSMBAAAQsSBGDAMAFJ7flMqZyEycGd8cqVM9PVkTBulByVG9L1LdtulAr+g7sfTgbHcsa/1ldtxEGidiTKglg2qpxOplVqdfa27bIR3kyaxEol0paUQ9hqlZroVLwRHMejvQpXQM0W3Fk3hVjZBI4rVJjE40QqA5COq6WylIHV8KwOjUZh4JVOmKzMKbtu0ODU6w+NAk+ZZp6BRoSAfNfoZKiU0qjQaNZKCzDIQhGDMVIgSABAIiRBTAhEbDQYZjCGWWtttGHFOmetFTMAEml6xuoza0ABgpAYmBGFZQiUBlsSklaGDJJBNsDaEBhAwcYoowAAgRGASQgQIMiAkcoYJi2FIQRgA8Iyerbp8lI8idzsCF1h1Uu1Q4Wbj4/Wzk8vrjQf74QG7LLHtlXgYCL3N45KcpX8AViZFhim9TRqenbF9gyBg1GvXMXM6yc41pHAyAclHSeslomRJnFxu5cdDvdnq9HqwtqUt7C5s2lph7IgCvPC1OJkMOZM2YTS80+dP90/7oeD4zCOx8qqlO3JpNU6OGAOiQwaKayi5fmxrZyqlQyV1gwac20Ms81ApJXOkVGw1EDMjJawABFFboxhg8wM/OwHwQAgGwQAIgJgVhoRGAwwEiIBIjPSs8+HUAAwa6UYyDAiAxsDDCAQUGjDjAyGEQkQDJONFiDlRisAg4wggQ0iu5ZVLrn+bBKSySmsrJYvXrogC4nO2/vjSQyFSIaVoBEn43A8CIIKA8nqUizywqA7JU0ASQyYuH4ZC1Ouw1Pzw3zSFdZDu7xbMBVKXJGSUWx7sl5r5rk9jkIklZh8rx+FZvfMwvKZ1YvHrV53a5gnvYq9luRTR4cjoHjWFeHx3Upxqlo92+6GTpB2et1uZ590onSeUIKENhBTJrWfDiUrwebnTBnqTIFgYyBPUSC7whKAiADIQMAGQBM/uyRtNClEg2wMMxMjgoXMmpQxBhkACYCMASIhkJAIkRDEM0pKIyACAJNkZcgolkIxgGJJoA0yokAkkiiIGaVCgWyE0WzALeGXf6uHc0+3tqeyFjlkTYbj7YON564sBsWPazMOD7+5NaCVmkA7yNTRytpFoVfl7/zXs2GU/v6/IJ3aNvllJ5ZsdL9lPKfcmMksN4m7WNAe+Ua7TCxdLJcbvdDOtShWK1lvbJFDwhopud9tQRotL1woVMv3n3yYR71CZf54R0UbCUI4avfC4UGhOrUwcwHS8PjweGXuHLrzvXEUxt0oHUjLskiaTpoejRkFMAtUbBQZYgKVG1CICLY0whKMAAoMG0BWrIwxggQYEhmozBhtdK6f6elggA0RSxYgwQCgASGYgRUbg2hrg1obEkYSMYACQ4QCfu6CUQafte8c0GJGBJQEAhiJjBYACGBYoS0uvlSf/erb91sPJvwVpWY10Sjd2d4yNBRnviwuzYdaJu1eGu3tzp5aePnlK4dHe+988Z780U9rJhbFCvY6nU6nLxuVpQvTR3tt6h5bUgrlOLAgBVlFjBKXWSL50p7SyppEyUI9EC6dHA6ZgDkfhLkHunP7g/m55Tff+M6Tpxt9zWGlLCDuDkZevYraN7nRw00Jed1tjI/dSdzRkrzqrBZTrlWsVktpejQ2DwByBwAt0iwBDQi2BBhJBCyNIVbPNHMNkghMblibjA0okNoQG20M5MYoZIGEGhGJiCQxW0ZpRM2gQaMGyWwYhCEUDGQxEgAKrdmwQQJmkTEAELECQDQWAaBgBEZg5Gf3MwnhT9UaSyydPcfTwjuwrLNmnHOv2GpRWth8/sVXnptdbkPcG3/fRj58kjymc446uvDibfnhuwIgdRzplbySNR6Mh6tQdhqqG4+KgCF6Dko3blqJI20ZIWrDLKzAd8KxmoxGy2eqgc+9kzDJNQmRk2QLNo43JlbaPLXm9CeBXUY41iYXbhDmQTaIsnE+0L089kwmkijNxlFybNtFl0mODqXOM0kGkMExaHnAioySAo1BUIyGjQHUBAJJ2ADMmkkBGA0ateKc+Zl/hw2xYuJnWq4GkQuSzDZKMiyU0TayMcIwk9DEwmKyBCk0z0R8JCASxoBgrbUGoxlIMVhIglkAAUqE3IBGkkBQqhaPTvLK7lWZ9srpS4Ph/NHjdR5UhbYsCXeOdH+ytXt/I8uGL15YPtoe3Nx8cv6FDV/OyTyPSMg4V7kx1aAoRXhw0G+estJM5D1lB2zswKtmaXwAYTVJpzVqYPCIXAGoWGdppSrKxWKuJGZkFB2pUalWHNB47/FPKdFXT79s6ML61pNGqTSZDMKTPnmOxqLJsXF6hbx6b317dPhUYixcymOdj3JJyDZJ2xICAMkoIkCBhn/uoGJUhlCiYmOeeawUswYmMsz8rCqBYWNAExATAUihPTCAEpAANQuUzPnP27UhJGYwuUGUEgUimGeuLEbQRrPKAZARgIHBMEtmYZgRhDHMRAK07dqHQ7v7w1/1bMFh4fDBZyInLKCR8crZc612r5f1U3FQnrY7CsZ4tODXUrXWb6GsusfNmaUYgyhO8nTsuSpJzdFBf2G1mhbFqBtGWmdKVM94rT1btTTEGnIWFlq2ZQk0GRAaYYP0SEh5cDxWxMFUOZsMHWPCeHj73u3G1GnLKwCiTHOLSVAhmsQauT8c1GsLzWsv5AFr0cFAOm7RPkjiow4xGGWYc0QkjYxECCgEoEIg1kqzgdwAIxttlIJnKASICCSzRhSERhrFRgARMDzrn4yAmoWBZ5ILMSAYBCO0QKM1ScEOEktLKw0MzMhGGCOAkQERUQEyEhrFAMBSk4WogY2H0iuWbanjcXr05NGpC/UOT4bRAJTu2C3PlgVmDnzPL/WycbDoxe1estUUhUjOlvTyLO+dxFE0MulBYykv1qqPbvj9XXjlpbU7t7YhsoetpDrbzFPPtziJcgRySNZLRTCRjnJGptwmpIxh0A1r83VCRp2j4X7XVfFgMl6fP7OEZJXrNT1WJFxZ8TRQHOXR4XpEmCSJkAXhOHkeQKUmczvvtVhpQiZClIKEBGada2LJzFpbSmvJWpIwbAAIAECDJIMIKJEFWQZYCa0RDGnNKA3js/dnCIBJog1sUgRiFIjMBEIKKSQg5ADIwBrYGARAIVgLZATWFkpG1GjYCAGGyBjUOVC73avZOImyxNyurYR5caHfPzYYg8r3jvtn3JnVZnVXoh3PuCIamx30J3hwWKlX5NdffXOYuLduvO2VJitXBgsXthln+ItXtrfChbmoUKllvcGwpw/v2k7DYC0cHCUFu5hgwgYCo2QOqSABaBOkBnzHtRAcSXGed9ppnKFn2cJ3LCEKDhnBO719zix7ukmZUGGYJntghboTJtI1XPH8qVTXqFj2dBJ2O5KFYUBgZmUU55kyOVtkJAAaSSQZgchiMGyUAGOABQnNImUlhEEgIdDkiISGNSIRIRopGA1JY7EwUhtUTEKzJgMEDMCakRlRIqEQWhvDKAXiM/IDhAR6ZvXShiWjhYYE8vCw2z8auPVecPnRUScbbx8JaRHqahD4FWthtQx5vShwFKt28tiuTixPFIpLEEl57cJrP7n38dTZkdfszc4dX5j6yo9+UsninBx5486hZ1tyHFelfbQb1cAKphOdmpOdE7SE5zlGkm9Jx7FrvgwN69SUXDdAFFqHITB4lovSdWJltU/aHnXGWUcUM91TTh6qzCiVGLvgFAhHozzryfHYMidBeQZozZt103GmM8sgIhIKIQwLbVgbfmYEJMOCJZERUoBSxExEaFCwjboo2LGwl7ixSi1Azg2zRCPp2WEHEIQIyOgIzJlzg4gIqJUCABICBZE0zIQMJCSwIWOMAGQmQDJsAIEQWYBmIAKDAEKnXiMdx75WddczrEFC1qw1qJiK6XdufFL1JufYFIdRvvri9uzFtrkX8udfkx9ufrGfvmM3VJwVq/Hf//LU//2Hyb9l+YkFQimcJDll0Axo2hdPH03wMWhlGMFhqRDGghVTYLLFctHkapCYdBSDwpgZodCoujmN0LKRRRSOjlvUj9KgWKg0GnkrojJpzxPFRnW2HuZe/2jfokIaR3nyoNwY574r5DgbeiAQyGLLBUTBxKwwRyOJyAjImWzLYjYgDTUcdaaQzlm9Gp34cuSW5A7P/HR3bX+MgLbRDNogMAAgAjEDPBuXBbMG0KwRkPAZDyhQACjDBMawRmDUjIafuZIkSkAJKJA1omFmZGIAEKjdCbnDGpaTxGLDZ6szpxdOf7z/J6na6bVcKxKWSGvF2d72ZOZSV6x0Tm7m8t7OZymzY53ivDAJ5/7k0x/uHm6gZftCT5XKxGI4TCZxWHZdh9PxhMnKWYDKlW3ZUkpUApAmUZ6pPCBblxsZKB2jFeskG/qWlaA0jAl6+8NcpwGxJYKFvj0UWQ8wNxLRdcpTjf4oyaTj2r6EnuY+typxWyKYZx2ADJK0NDEja83EgIzAAKiEEEZYC5a6ovb2tk/eTv3XZvUVtxuo/tdnHl187vj3H7y+ORSEzAaYEREZQAEBoTEGGIEFgSEiQEtIKQUSgGZWYAyjYTKgjTGAKASQJEICxYAoBGt+Zq5WUhrW6Cnhy/TLF1bK1isOOedmzvzHj39veu2za4tv3lNnh3nm2QpyIboXJx+dPulUj0eedOmuzDlI94XtPuzZ6aGjVdEGa7ZeXqg3mHm6zAfHvUGnXy3LKJkYLUEjOyhQCI2A7Fj2IMqOR5PyzHQxKAwH495BSzALIW2tjGeHz4qzRDTadwoiZ3Tr6ThyIIuioUwb0MsKdnkEIEFIqqg8KogqqwlZLBCkABIAoBkQjDCcMkt6Jg+g08tK5C6yFF+sj3cP1ZTAr9XzUrXqW1pFg0Xv8W9cn/o3n14eDEUGzMpIKUmQYcnGGEYAQEDJFgEA4bNRF4F1zsYgaw1slGEGEoTIBAYl4tyKWjvnXT79y0d7k9sPbuTp+Dt/e/zFF/HN9xdenJp943re8JaL+Nqthx9OCm996fnaavKPV6YePrXXO912njCjdXpmCdJqKkO56HYjdq1cNYQ+LGLl6sOLzzv7n53xVNVo7bqyZEtH1u+NUjTJXL28dxySFEQEiGCEjTpw7ZNemKXQ3jvwpAzsYgHtHBQyqFQJKyEg27Zci6TtNmebJ/sn9UJtlHm+TvNx0n20VWShlJauU3BLmqc6xxuNGUfIlE2OUiAggkF8Rv0gGiCthZTSohzNoN83Fiarl7yv/Df+D37v7/kfXLXGTp6mI8ojFJ45U7/98unTHzxuTJcLjoutw248zhGFYaONEUYQsgEQwBIUakEomBCAQXFu0GijDAMiaEMMFpsXvkaz334/FAe96PYbl//Bc9d+QeXR9OXv7R92Xnnh+pvfXCTrnTxqvv/52+8d/S/nXp+8VPg3N26WA09R+ySKTwBdju1yYOqi3TpyZB7WBBqkka/E1eYVqzhHzR/OL24ffeBSv+6SU3CcouONp9Otrf1aNeiHkzAxhBYZREHTVc/kWZ5mqEBpmICecL9YcBulYBhloHNbp0UhURkxySyLCoHfJV0KwPPq471M9bu9LMs80agF5TwaHYfVqSktR9Eg1jpDYGDiZ+IHoxAGLTJaogAhwRjjCjw97TCPdh9896BvZDgslLWKVaxUouLKIgwd8XDL2T5ovXDtpaklj63x0wfFTz9+bIwCUARMAPC/BZAQpIRnkQAgYQHnRrHSYFhJYG3ItvW16zNnvrmxZe3Bflk7O5No98HgZlCM5/VL11a/zXNTa7OnlH7tZ29/8bMv3nHOGbX30k6/8td//Q4Vw0qhKFs9zy3PNWsVf+6v3np7PFZyaeE7k2jDpK2SV19sXHWd5U8fjTce328ktaJDrhCeY2WZrpX9bikYDkdLzebWXvsZUTVXJANw2J3kLBQbYxARGTlKEyntRrUswziMJmSSJNWslAhkPhg4RLagXHCoRrIAQjvjfp4ng0atMD8VkISgejbSJiy20vEIMGeSiMQskS1AQ6QBJDMhIBswqMizzi02vdGd7WHryNGreWRPRYU53Z/1TsT5e8maV51pHz1MyAxkb/+orDQiaxBIQAYIkUkCSXpW4xlJa1a5yk0GpEAjKJmZbHFZLl89P7s2tx0KPRyq5LGzMn+28X/cOfzz9fE/LsV/0iz9z1JNj8aqjb9XWZO/vvBbW63tn/3x/Rv0J8VyFpI/0rOnlmpvvvTyN57/yg/fey9KQbORKzNfj/TZU0tn3SAYq8hGf/T59cfvFPS8WzvtojFJkqeJYTa+K3tdjsLJudXp/cOTmUrRdayDziQzyIYR0DAZQoHMBGGeZb1+o1Z33ULr+JAwtqogXPvR9o6Q2gyzUZKAo61iMSBnFPaMcttDo3hYKku3VFioTy/ML3eOjifj7jCKkZWgZwQ+ghFSIJIgwSRICEsY4dh0tlHZ3e9LpzP3+qRxBqIYtmXj5pPg/n5GzuDq1efKhemC6KeXHmhfT3YqWZjgs2gXKlsSWg4IyxAwG0HmmRODyJaU58Cs1fQVk1z5optYvkrB2aic2/GsV3ITNt3m7snfe+etJ3/7tRW/EqRZGg6vHB5M2ntPH9xfj0eTxpx16beyzceri6Y2XSnXAtdzneJCbM0XAjGStalpV3lJhiedPdcrtO3wJPk41rWt/V5gefNz0ybJx+N4PIqU1lKKVqt/qll84WvXHzw93jwcAhGhyFkzAwKjVoACJRGYTPFh62h5dpFW6i0zcoucJm7eT8Mw1jmjJ/xKuVAKfCkmuyPQLIVIcx1C3svbkDytF8soG0Xfqc0tjEfJpH9sjNYsQNhALImFIJQACMBcdKhZnjx0w9WXJ82vkOypYQKeP/nmG/HLg8FPPhn/4Ls9K2icPj238tJaevZJeXZ1sBMFjvYs6re6g24EBg0xGmRmQiYii8CwRjcrFCDP7fUHg8W1+759xhxLNWctZ//oa9P/PEu45tK3z/7v/uLWf/r37/zZwsyXV6bqLp+6ff+dk/66sC0pKErz7UeFab/50qkLk1B977t/2m+16i+2V76yHh40ZC89Ia8vffbTRq/T2jh8ojZOzVfzJE73909MrmuVqk1YsKhY8ueLHpxqBoF3OJjsdcJEa08KNqyUNlojGlDAghnBkCRmzvVRZ79wynFQW649TDK2IeCCPVZY9pzALQReYNkd29ZpIiwgx7KKoLRWKQ1Mf7gXu0wVhqnZ2cWV85Mhd1qd8XBgshzAIKItpeWJQqH+reb919feuxY4K1csQaSyiRDgp72enlHlX/2lv73auHl40HY//uRhqze69PrZljspnC36th04sr40e/Ptm0ZrFMAGiJBIaNIGDIC6cNGrPvfpcTY6ftyA974UvMJx0Nt//41w9RtJQ3zw0VuNRjQ/88K3nvud333rpxu9PW/j8PSU33jj4eHjHWOm3WGhc8fpfH9y5uxWcOHapx8+HHSizz57cIr58itP1zmQXL5rZ6tJz/Qm4qNb97/z+sWLy9f//C/eyr1MmLxZcprzjdEoDrVKlOoM853jVrcf2q6zOFfXEKaK2bBRymgDAAa0FASCDBEygECrLrSfuVIS+8zStsjNIVWTYGLml2vSRzCCwRaShRDElIxy3y8O94thkmOeZ6S73cFwODh7dmnt1HXf95hnwKDJFQhj3Eg0XAuKTbPnJumXL2WKhT4wYQQ5sq3Q6+386NZ9tXixufjLa+dL57/1d2787EfdwyiYtzO7r9NJhl404DzNiAQbEoKRCBglAyJptArN9sz129Ge64ZWCQ4lLj58OxseuR8d3Ejy1txsZW7xcsmbjqL1r52/9JPtJyRgIO4b9R9QNtM8g+myt7oYPZLbW8e/+6//OI3HtoRitTw8CmtmtZizfPRoc2UWA7/61o9+mg/zXF+8dv35D+9svPPe+7XA+fUv/cra5Vf/6f/jX57sbURJMo4gyzLLlkqpcTiu+N4gxCjN2SARa2YGVoAWSsFsgFBioeFSUZP0IPUrBUcNMAsjh7x8Yo4fH9QXinmMoDLpEEhESSa2JhlrtAQiWgwohBRAuLXR0tnDw8ODPMs8z/IcL6h6lbWpHiZGKUjKkLJBhjGnCjIXMoF5Bo5MrPCTH/6n3sK5l8CaWTl/bu3s88cn7XjYsgqTQX5QzeoH9048yAVhrjWRQCHAAJBlW/nySunSK4ddK110zw/5G44f42g6POmyR9aUVH4s/GbdP3vSOby5dXtj6KUsOceVooPBysierVgiqM+dcBt26rmyur2ua6EgjCdpvbnq9s7MzN+WV8+vDGiHvN7583DG+8rpUxfvrt9aWJ37qv8tzwmuvPjGjQf7u/ut8ThBIxDQkrkQTMIc9cbeYDI11fAt5+hkoowxgEIIZgYGQgQwwHmxYmRJZEP/+PFo7cyZp604zyKSkkhnk+zkYccYdIQQtgBBgALRMsDIGkgaY4zRoNiyMDd6/+iQAXJmPUnCVPeE1CO7sTinlD4xy+clZcBRBpMMjI2pxUnZs4uL55Fub7XvfvZxrVHrbX78CXuLZ56zXH/pdC2KDo42jgLjWm7qVqutXiTACGTXli5QoeKcf2lulH2hNZ85I8tLZwfJgyBsPlWTQWKm6tWtw167t7FY31/vTG50RC9RwioQxdz2ZxqX12kkHN93jD+zh2v++IkkfGYcoGFvUuxMqqOvTYlY7m/4L7/wmyAbyfzPXr3wG4ft3dv37tamltkpffb0oPfH39vd3ItUh54pEMDIQIjIqBUmYI5a3alacW6mNBqFYawUE5EFhExoFGuFkxMWfXm8HaV94Z71UOWWtMghIgIwZEAbFCAFChRMgoCFI2CmUt94eqKZDTNqFEBAFCYJIYPhDJka5dD2epv7Z3V26tTyulq9GlQy1RulyC4YwzmAcDJtWqfn1d//Vfrjt/KdgX31pa8CiSRPyfWiXr4SXO7Y94njKCWd59PlILARpYBU1WZc71Txfjd+7fyF1XIuJ8Uu/vAp/FS0Z88tXzs1Nx1Fyc7+3tOjrf/hP/wrI8p2ZbXoyCRLRlnnyBkdfjo1iPtxw2QQaalqL/VlXo72ybDSRguS7f2TUvn8yeHL8tat42nncjt+sLvfT0d/OTvduHbq2uLSmbmTg93W1mdb931mvw5C2ZhCOMzTlEgKREtgBmzSlPaOxhI5cGmqFsSZyRClQAOkGNjg0zs9YxQiCOE9unuYZ5bt2NICJtCMFmtLg2FiRASNjABGgv7aq9dPOu+HvRYzM5FhIsMoUBD93NFsMpNmSuPR/onIR+l6/8LZc6vFjyMNmQKJrF1UkWLqWxIXmvDf/N384y9G79wcFVa+WgiCsmt6neNSsKj8uc2tjyxpWRNFUlq2hQBT0xAsmKlZmF38CRf7+20w4t6y/TvB9qsbB/F0tf2zL/Zv3riVZclX3nhDJZGRZY22HZ24NB6HzlBPpyEmYZBwrPXY9QJvXCn5tiwRo4cF37PspN/rn5wkEcluHv+nH/9bYTCJ5KOnj37ha19xnep7+7/btd5d+tJ2fVBubZwT2oHENyEzk0yNAdRGmIxZm2fu8ETRKAqHsSoXipWS7bgizTVLzI3WliSycgNxhqNO7vgAroPE+CxhDgaQ2LB+hmMFIJIxOoliZAmKEYBIoGAUYKElCNgRSmubgXxHce574/5kD6vJF/7CWjBLfBhFJBzQCeYZG4mWA0XAohv/2pcOziwN/ugnOuXXKmcXB+Px3ZsffOkX/tb+zvFkfOQCCDYAebVIyy97Nw72Xl0Mzs59MFBpP4eZya+H3a/e2x+E/O7J0/tuNlcsJNKeTvVobq7RnL62EfmeWjvcfMdWcTyEcKIduULxSE+OEpOpoY+Ry00YIDuWcYuBW3DTKJQlJYPyeav8JNb37XHZpOW760dD9fgY3svch25dWEFspqbc8LxoY5Illq0QSCkGzQCkGNkYo5gNIVq5NqM0yyY2jRMwOSBEuc6z3AEm4QphAT3zdyvNBAyIwIDMxAYIDRvUiIAca+72OoFvKQZCJgFCIgGTBEFgMkANepS7pFTQSvMByNiu6xOcOaldm7fi/q1+ZmjcNzkRe+zkwJZRuTDI51fC/+7v7L6/eXacZ9W5K71hNh7ufePbX/+rH/4VZH0UWuVyeqm0G7XiCZYqkWOcYbtyf71TK56+eOradKV3e6u709syKS1941GaTci/kWDr7S8+kE751bO/vSmK7f6R7bhF306VK7EiMw+LUVatjJNxa7Adh5lgd1iuTxWbREb4kZyqiSuLbzreS+/e/EgqZ9QddfrHtrWwvHzu4Ek8zMnWrpsp6TmZNr50VExxqBnZMQBo8jwFYikksxQE0iKUoBUZRtaQ5ZBnWQYUWCwRNGtmgSpnlkDCsGRGNoSgCQAQAAkEaA3rW/ulQgEJGbXmnLTFAMQMDglfYpr6vozHYMUVDUVRzb26EnLhnY3yV2a8F7711uOPx+NDiiWgwmzMqYNRwbANzFjx2t9+cbTZ27i1ficozuwexaf96NVXXv3wZ29DnkhpRv3IKhV+5cXnFxZ+uPlgsTUOZtw1J/3y5u5eqZif9V+ZcHj9y89/+JmLz/2F3Rjc/WQqxU4R/FuPPxqmtlPwUXe/fu265678xd2boxArwVw/YkNRuTQzV6y6hZpVcE+OnpZ8EZTLsmi3TdJ86cp3RqPCB7d/XFyw9wZJQ/qB9B1sC3sfuTlKXyBIHR81hzoHg8wChJSUCQTJqIByBkCyBCABaPG/iR9MnBNIVPzzbSp5aixDaDFYAAQo8FklEojPgnZEoC2x24sWZxzHEjlry5XVmlcMLGaOkhF6Pc+mq6dfffe9uybTUmKt5NQrUx7OPPpie+vj+j/49Teuvvqe/iSatFgnkCY8tkgkPM65WcZqrAv1Dy7O46mpw5/9dPSk9+bxnpqemZ1fWjrc2pKAJ7tqRhetMxtRcvODP75emoXImunl6yUXXzy9tH7zyS/9wrcMV9v773r+aXa3df9s3a9LDPYOD8dJEkJncSaIee9LZ17a3V+4nw1HR0fkj8nvc1g/GYTPr614QdWzxknSzexDuVqfma7OPti4u7W7sbm/M821EKyyx2r6Zm594hSTbPJNMSm8ceZCbWruux99qrMjpxjnowy0ASJiJJbITEJKspEsQCmANSnWGYLRQiKz1pxrLVIDSgBYzx67JUBKJCAgYPFsgwsAABIonSKKudna4XBoSk6LcZjrmUbB0kdZup7b9U+efCBcJ6hNNWana7NzOVudp4dZ3IYa/sHH1hfLFwcqabNx4oFMeoFOpaB4RKB17qLBrmf+2kh57eyksDOMCt/uxxdrVRuXKsQcj9TR0/GPvpvV7rw2Vhy1i6EWSbY7W3UxN56dlivNP/neu0q5nTuzYWd+2m2cbi7PTPnfj39aoTN5WrMw7E3Ew727r1w6/6R1n23lBfFsfelkx031wSg6Gkb71eAk7FE81rLqNAfj9O0b79558MGLz58tlhrZ5PFzz+P5pf/i163/a0cdffSFWnp+4W9++1t3nh6snvPGS6uQDzvrg/5WH2xig1IREEshLGmRbZOQyNpiO8lBcfwsC611lmUCBJIRCsgCTcA5ey6CI9iw0EAWIAGwQCIDQAcnB6fPLbQFxjofx5GKOMx61Qo7NPPC+dc+/OLJSI7rS9dTp3A8QdTh0eGWqMu9cCdL1MONimuVLelDMbW91mr2sE6QxLIPYRb2DGOZ9TjVDL7ty/nFnnC2nuzOv/zbvzNdnTo66r/7/kd3nzwc6/6wfH+t+srrc1//4PYNI/Lbuw8rJfmfP/nDB0/GUvLMTLN3lHX1wcpczZWNqXqxTMHj/VsRdHIsfbJ1s2wdRVEo7PDc1NXVxrW/fvh+wS7sPd2V7tzTZN4TtquUXFi8oJG2ji4+Wr9zsLf3+gsLr5xZfXn14lz1lYJfP4fQpINyQfZjs8P/08Lln+zsvTJulTRqi9giABuFhySEENKybGFJBlDZM8mbNSCwADCGjck16mfefsVkS3IdsDTaOSrb0l4pyQUU3aDg+pKgPxrFIx3Up88Xl967fwcsx+bcLVmZZ2ex1WpH89PVYpiErUOQTqMQSM8BrzjOrUCeTXubeUrgona1AJ5y/GhgU5IJC+PUHWRBGofFibV3kllu6pSzaPdhpTJYmxX7R3c/3I0qteRXf+c7i+vpxgGZ8XvXV87vdyJR5Hic5jkcdfJV+6B8yierTmUVdjqeLzePNh4cP4iTdGN80A1PFlfKoHHr+KTf36yI6+Vgaqb0wmG7TwCzzlwsdQq1MI6LjcRClsfHh6unLn7p+eei5On7N//qx5/84Le+9h3HOn9j87OCt5JMhudXVypB/ceH/+91/h+9qi7qUXv9zawv0EZLk2QpPUFIbEhKJCJlSCijhXm2pkczgAY2GaMBzahNlrtGswYkm4B1xcO5N3bahVtJLM+W/tt68RuQHve23l891XjpuWtHx6OHj24aC51KyThxmg4Cwze27tWKhZpzOm0N/aLPJjnuonIKduCUZc2JdMEFtmlrezsNQ0LwrbVDw3OzRdvFMaGRR4Pu/XGEFCtLDXA0andHwuJBHG+keVh7EL/UvXbq5SyzZ+b+fvtk8ebWbVtGWRZOolxx9dMPqr7Nlcooo7iwbPIMunESZW0VG5ZLtemvkIwOj0f7T/qCHLnglSqLTw5Hd+9/tuQUC0HZqxYyKYeTjUk47qeh/KsPf/A1zurl4kvXTlnl16Kh88LFX3t4uPF08C7oW3ut+1uDs2dWLt+J/tjy15LDqcNbi/mx4zqc6AwRkKRjSyJSGgShJIEZRfSM02VjjDJKmhwhV1qxBiJKKJcoHYG2lRcLKpjP87WP8uwkyF6+v3Gv6TdrU4uN2gtNK76wMn/v8aezjaHlVkJhDePJgm1fvLywfnAEuWOIS0UnncROw3rjhXNvP2hTUBLa8e2FilT9QbdZnHGngvZJNAY0JDZb6JTQXaxOrHNutlo9w3pwO+y30txOtTAw3j9ZP+jJ2pnz76Th5narH3YyKHeitm1hFsc5YK2+MJh4nb6qFiYuhZ5EBRCpMSaRnTqRbuY4r0cyDPucRZYFQaUflFzbK54cHE8Xm+eWTo3G0RCJIE9GR5kdSQRZopPuyd2C/Vyt3qj2k9nq/BePbzcbDZvsewfv7h+ppHycBpv9rb/RnFkI03IcbkzP7Zx9fnXUz2/f3YjyxHFRSkvlJNgTQAkokWrFxBqNYc3MTIJsQDSklNGCNeRGpmhNFd15ONG90q3Lv/ryPyrXvvHd/R9ubP877xh/6dqvLTZWdo4Pbm3fHvQfz02fNqOxa5pAURYqH8sxgO05mcj3NtanK1c5hFnHijL1dKfX3tk7u1JbuDQnHceEgTZ3UlTxUKlUapeOwxM1ijxy6jDvluplsS4nXRWaUS8PClzJ8qMHh72Oc7C8PjUbh/lAaMcJtFOfy80pD/xAb6fiaHYlrFRKo6HMRpnuWQ25LPr5aqmckcqXe3nGe/t8/vWrYG+EPXPQjbPYWixPlS7f6NxOLX7N5KEDEMjqVKUpnYVJmmSf3nt7cXWpwMuNqul2klb3wXH7qMIz33jlb/3w1r+7dbu++3S4+aR//vzphemV3W5/tPfwysri2rXG1k6nULYNgwqlGYNJDTMLZmatjCGdO5xpFIYlAtHPV7CxQq2NisYp7cJqc+GXr//K1s7Gh0d/djLcqDY3zMiMehuXXvvmn7391nDcaZaXS/704mK5Ulr+8bv3f/AXt+Zmp2bn15Ku3N9tZZTsnOw+bR0OJmPhVsdDI4sprhX3ywe9w3JyFHleMahN5V7Hh6kJDMPOFxybMM273eP6/Kkj7w3pxFWrbclB++mxUoZVFB5sWTxYXGwaMfGsibSdRuM4s1tpLkolQbDjLW4Ne+c6xzNZ5Hc6Ts9FO5cLgwmMjkTVOulljIW4z739qfboRi43lTWzP8BtiIrCWq5Su38cuIV6edaAlNGFYufj2+4we5B/8crzb15Y+LVt3nu4+d4La1+OMv388gvdQf6992+6GDW92hzAyrK7PP3q7cfvdVtju1QvLQyM4SQLtYksU9dhoHPNbJCMY6GxbQAUqFEbrdnYDmshTP4s4KJSk7Sgk5uPP38n81onk9HCmV7TOfPGl/7u5q766OatiqdWGvY3r/7mz+5/ytN/sVD9L752/dT3Tx5u39+KT2JwculHF99YWGyePehP2ofYjVJVFcVyKZWys5kMW2OTWwk5UdxI4NIkPrSxPVWZ2RscUmYo0TpKtZ1xYeokL1n8pHHKOXjUlzCCPNHZJM6LdrE6ivpxb3B89LS8OIRSH8xRyaokBysH6/bg0FZs5hYW293xMJq0nXxxuVLgeR5vNt3SeL88SA+ytGPU0LWtNHS2P7fqdd87dbx7cHe2YpMc98JIdrfaxeLU2tS1p08fZpEzGGvHW6xVn7t+7trbd7/bmWy8fun1hw8OX33u9Pm184rpp59+N1KthaI83by6Mxgos6U5s0QqNCYj5lwIweBoAAPa0pnOtEYAwZqFIEYkS2vLsFLAtjaGqD0Il4/rf++/+u//f5/+riWdi42/UylciKMPFucqe1tPLzQuSHZ7R0fF6qUvHg0PT9ZnVxc9v79cax6po7FWm+3B/c6TTiLTjEajREXZKSqLVnv4NB+39gLHpmCxPdnLo/u5OVp++bJXWjjY7VWr/vz8bCezIoU2kFN2SWSlut2Yvra30TJoWdO1SWYHiV903Kx3wioPd+e90vPC2y8ES+0eq7juTc0kk6HjOSoNK7a8fPk8e7VwPOy3w0DEM2vWmK3Y9RjIMpFw0DfpXMVV4YN/+JvPW6r5zs1PQAxksXUO9PS/32iv+LPh+7sf1f+yXK9dWqgEljNffn53r1cunfzil1557twlAP2Xn9x7uHe4ttTYP9pZbrqP9ra1dDzfCbKpXpgVbJn5gEZmqFlrkIZtQC1Q2SAUIUsWGig1LNAIYEYySII1W/TRyQ9N/fO7H1U+3P8P5+cX/snf/zvN+tonP3333PLzm3sbi6ValU49mvSfdsNQaccueYvL2DkZn4Q1bhQLlYPWkVbk5QCOp5U8eNJNItLWYggCUM2sqXjssFjLLbd3dGiMLsw0Tl06+0Zj4Wd3Wt1YB2Y4NXOpWZ7th/rq2kvHJwef33g/Gk9OXb3k+1CZrg/6VaYVpT2ZVblQD/zMdLsauLlwIeWoPmNWp62FuQt3nzy898WPfRE69Wq/9Wj19Jp1VFa2nK3MDHtjKI2Wlmg0GI8nhfEwHA4SadVkf9B1fQj7Tw/AOolMdTQxXBdrz2+0ju8efbgz+iToF19u/prOVD/Lbm/e3T4cH++NFleX//KTj3ae3rWdukototxI3axbFrLDBSUsEuxKNr60wsSkqJVAZtKgDUnbUZoQWTGz1oz4NNlr3R9k46XuroMoQOBMdV5R9KVX3jje3e0db2mJYLnTlTKZhSuXzltu4fbeB8Y5ElQYamdycKhVqlJwhSecYNAXcSgNgUYEAKdoY6k06B1VpDs+2G11en5pKpZzn673r0T88pnp+5v324Onm638KT0s+SWYf3H/4KDf2vUKDuloMIwnY5yMarZLVqq88jRlhbqdNGu7kf1BFJ4pe8vNhZJdDu4fbG5t37V969KVl6Ktg6mZ6tOj1nhcqzSbM41VO7zTyvZ2dw/D2HSy98FUq/WZcBTLe0+fZOMSAmpqjE0ajzvLdOZJZ++z3X/Wij7LsOdiVcXRuB/32OwNb9WmVDSGR0/vCQoXZ+e2nypgjUKrJH2aZOWyKJXigjMjUsd22YkxZI4hlxaiIZ0zgEAtKHe0UYYVKCFc41dK6Zg6exmSsB0nz5NP7/751edePXv26k/f+qu9Xr/DotS+/Xd//Zdc98XHu3dG+unW7oMorC1OL28etlKtfbuU6pwR4iSzZeCWglRlCGjZUKt549ZTO2mH4zxXbqGxXJ6poO6p8eDO/fy4OhVlkdSu1JZmlLI+HvSDgruyshr4tozCzKRRD4QVoFQkADnPo9YY9pev3nzuy/ff+qNXHTUpTc/ujPdSzIOGLtBUrVIeR/sC6sMBngwiWc6fHhyLcJiBpdGZWWgUZ0fdk8SkXKSaVO3CV39pxHJ6e7O4dulnykx64/UHj9ujpIXjYjYuRJHcKR/XznV/9PFGpAczM3ZldXRKVOf9pX4fp8ti4yjs9foWSgA316af7LkBS6rn0hhBaNnCBtBELKQkbYgNCSvP84yVA5qn5zEo+tl4BEjGEhbJeKjjHgc488Of/agXmjHFYKeDKP2Lt99548XrHz94d++oOxzNnD69/PwLzmxjNZr0OI8//vyLnG2AgrGIyPGFFRRKRIk9GSS9bt4fGysvz5Sdahb375nJRADW514acCWUWmslLACMbMdHUoZdWVhw3HjSH+VitjrftH2PLMciURbHp5vJ9JV14/fDB78mRs3l80V7ahzyCZR2vnJhOdqabncPq9NN1y2tTku2R9IGZVSjslwqnjmccJinVbM1XZ30HysdDuXrl1997vxDkOrVha9s6bHJDuYWn0v7rsNT796//emTu+TmkXIe7O5aHi04Z+frU/2D7fK87dXpXvv+jHX2lbMLn2867V6oTU+qzIaiIMtIAuEKYtfWtm/pjCAl1CI3aDi3tcnzIE21UmF11l5eqFbGkcHJ8QEXhAMj7YnGO++888UXn4xiJrdYLCvy+n4RP7qVjQ8LFjRK0/4EWSy/tzK9lD+9cOfj3cH+QVCuS9/W5KMlHduRFs836icP19Uk9fwgNiOjB4PjgU5AG6taddgpauEHgtkz+SQzWdIdjAehN05MrVpUpEYhOW5SsBULadtB0fdGGxsXX1irLZx88qOZuPditebrbHiycVizK43KtQIse06lMY8nbq/amK6Ue8WlWlCpiXHY2zuYZPNSHJ1fKVbds53hE1PQiTHy0c56+8+q8/PNX/ha6d7eoAbPn2v+ytOsLYStsruL571oXOh1ev3up5cufmm+cX5988HJfhgfDUuniu4C6uNs9+DJ/NS0W5hSqtpqP8pyNEYI8WzFHQMiCvEsBSeAyLaQbOREg7ZToyZWZztbWygW7eX5ypE5Gc/PyuWvQoLdm58/TDUaDdakWJuZF8V+vaJXl17/6eR+Mpm4QpTYufFhSNYHT98/OVzvCGEn0YS0kZxagc9ZWHf871z/m9/fvz/QKTjStbxhmERa2G6NyVY4aD1+x7eqKAo586TXL9TrHbeaaLta9su+zhKvUGs4aVSOB1rH4bjVisyk23r/4/Li4Te6O0dnLr5QmZ4GHaHSnuMakFkySWrtLB9Lpl21e2q+WPBhlOwzKtl00u728rR39kxzdPywZk2H/iCzY7k7au8Nuk9PDlu9vbWFi889/8uOaLTHt4Zqn+dvdh9Gh3fmLFFybRkYU6ok7exzI0r9SLafqpkz58IJAY177c0M7VGYEaWAGHHssa2fxRYQUCAQsNAgU8/lQsOnsq0pyRJQIzxfW63ZUx/evjMahvWiffVr5eLFJ+O3J61+rMkBowtucraxWK09N79SuXbmypUrL/7zP/jDo9HIYxvWX1aW6LbvsCOl6zMzIUodY5pZjvLIs5Wu+nVgmcWYMbDpOpaslgqS3DBVRpv+YJCbcZpmhYLLjs922TbM2XjSVaCsgu35RUeKsOy4FZWFNs7PXx7Fo6eP7li+c+/xe9a6CBzXkSLw/HQSnZwcuLXg6998/pXZS8NwCMHNdfx/Pnrv+XZnyXKDwhzMTlcXaviDew/G3VrvJINSIA3kkqwwyR7v7L904WVynD/43nfb7SOneSevfew6r7AzraVJyVTLjUebu6jdWqmxHw0++2j3q/NXpuZmLjeXP771aT/mJIEo7AuSaUYCiobZECjBJlNsmIRxJc5eTKCGkzTJ8lFKqEU0Lptvvvy6dl/4q7f/8tqLjdLcpDK+iPnyzMx4eXWtGPiz08XVUyuFQt21fbRh1VVfuXTp7Vt3lqen695sJ+nfvWehjSSlRay1AhIicOuLU8YvvrVxR3spRBNpC2PhVDNAyykBOLb1JC1y4Lr+MHCqvW43ieJGUEZEmPR4dMhaTQZJjBgFlh/Yeb1cmFr2yzPke1V35sun5j65//m7t98bdXsil4Jkwa9Oe7VMxd/66puLi6uLlTWcyg/1v/jkSftkgIZRMgtLP3+2pOKtk44Jk2iQFuvclJgry8dSlfyK/rTzH7bW/yQtzI0PslDcHA2z0vTj1bUrh21nys/nmmsHj564uStBxyobjcTjz8KVuUlrdGS0LSg+e/7sxpZR2bGtmIwhYYgQkBWwAW3bXJm1aleT1mhAHSmVmQxpeGyF1mjS/9fnVs5duK61F8je7OmpL9+lrTe/8aW52fluZ7ByarlQqQFAnqa9dm93cxMno8Wa3R8//nz7ZvPCbnPhzN6hLyQalRkkyy+7QVErRZ5JAYozM1EcH/ZiITwMh/NVffX8K19sd2OOC6VgyrOlUcJZGh53VDScrovJ8YEenniNxfLlS5EJJ0k6UnFQnirOzBuriBakYf/f/+UPW91DnbNNtiYLS/M9riapmp0pSo/a/UHJHmRpklgvb57ctK2yEjlZ6S9fLS1Xer/7g4cvrPyKUuL3Ht8+GXQla23bGBQty/M2jjpPOu2vn/eiueHGQbfcqC24r/+tX/nt3//uz842mTROlauWdzU8aLnByJXBQmVlfNg97PVSzNEoTNtNuTDJXJOgsA2SQiQBJpNs0AgAqxyR07EL3YrUzeLMX363EPXR2OaQcvI/KbnlcJjMqq/1DsPd/cfHbcUifPTwyWe33j6/dnZpaX4Yhh9/+tmNxx+NcKh9P8r6o3xYozF4LMDonBFty3e9Ut1Cnfd6wzwslWao2BTFYHIyUhlZojp42n/auRVrS/o2IL58dWo+mH7rxkM9ZpKcJ6Mo75Xn5qvLz2WWG4a+sdEiOokG6eYXnuen6WQ06PfCzCUPEjtLQmPSVB9Ldzi3Nvvyi5dyY/rx6GhwDBi1O3auKmBnRZZXZ2XZy/7o0xsPjnZPjv+07D5XL6SURbI0xYWyDPwZo10fgoNWfkN8LoNOobgEcVPQFZ3bZ8+QD8mTe7fPvPry011idzjVgJIsVMvUOxzNlkrgSeb4uTOXwASf3r85GJ+4lqmWPGEFrU6HhEJpDKrJKMFsWJ66ealwRZnhhTNXH8GjRrlTmDkJIzfQ+hdff2GmNP8f//iP7m9+0ck3P2i93Sw+NxmlY5MO3L1RFO6oz9TcKAojZTBHcqVTiX49D5ZawRNWmpC8QsUH6Vt2ElzMtXadgrR9b3lS6PbH7QKTx04tVApVjsopuvG1s6dXal95Om61D49q9dU06gXVYPnyK9p2R4ebUVpG40iWoChVo8noqN8ZBAXfNjIa9AxobaRKNURJgfPvfPUXllfPjaIRKE6zw6AStm8m54MX1Zy4OLfy5PH6n+7851AXZTC3f7ixp7Z8d75YOyPLDZJYGQ8DQW69VPBqzsQMpLM06MyZYdmpld+695E/e3h++XrWOu/a1Yo9MVNzodh0wn4zUJd+8XXLzgueVSwsNadObQ8+68cLgyPz5ddeP792zbKD2w+/uPvkrwun7uf1rZNHi6I3O12/Ni2XKs7Xp/7m242tvz6829TjmbSdn7r45unZL39+88b9xw9HUilnanH63GDSuXt4o51UWs7CyXE0mmw2aqsFuz5OYiWzmdmFUnqx6HFWa/bDRGnlh6owVcZqDbO05tlkOYg0O922zjuf7B0EVF5cWdna38+kB8yj1smd22RdXekmg8zuZ5ODweDoay+/cPnSS+8++FGcP0K8BCAEcVHyyUFcWmjKDve7k3qzxCqzbWEAsthJM+M4+ZzbXCysfrj9437/kJdF2b/QTSa9Tgkn+oObk4ldFZfLViE1pMykLoRh7RTql2Wx5Pg+YfWBsdouiiV65enw0mb/oY76Z6rnPNdJTHu076x3+nMrOO6Hc9NN36VTS6Ol+srC8rkvjj+5d3wPO9mXzq9E+D927NHM1He+eeV3zl14Thkeht1mM5AruFv8SZTlpxr91/B3O63GAmfb8M+2+UeNM+QFonD09eGAyk7z7U+/95ffe1cW6fSpq5E5cHyE0FF5yQ5sGy+D2jeR6qSZV7XKXsHOK01rddjp5KHBSVrQMk3QrXjlmdluOPYdsr1gEMYG8+0P89XZ5pdfL//spzejvl2EcJJOIGIhsrffO/58817t3LQ3Ta2D+xWf4ljv7H22s3MjGp9UKrMGS+GoFU5OojDjUIlCVWcyyxzbdV07Y05dh9C2bCv/3R/8nof0/KWasApvvwX/6G9/83j457P1F8BrfP8vfvDcpdVl5+x+fr89tOKjKbcAJpUH7Sfy1JWjsPFeYvdgAgdbTivkkCmwGtKfTnU4Gd+1mPiE1uNdZa0Ib0amY6XVo/auU4Wf3v303v7jZGRXReHic+8N+MP3btaX46XTZ/7LPDdIepQe9eKtp5W/bod5FkGJwgfmn15q/oui8/LxOIksUAO899HAS79/tvE7laB06+5HhN2L17/0xfHtMO3cfejEQz8zS9GoMgmgVF3yuJCHw3JxWhQLMpUIwI1skA1Tw6gyzxe11eVOHJHJq6XpcQbSdsDoyUjdHRzkassqq87wZKpWjTptZRK7XMhJjScSj9u/9PWrTx7uh6PxBzfetqU3HMd20Zb1wfHBnc5h37eELFSEcMpT9fFwPJmMCyWRZonPIiNGlx13am5xWqi9MPXurh8pzr7YWp8qf8Oyqpy7ySi/+fn6IGs0Vy9b7XqhVDBhz4z7GodyPH8LrSw9CbbeW006zcZaIIS287OpHo30yKjMmlC2l5VnS5nOVdZTGkfjYdnx0QT3d1qjbsNO7GsvpZXS/Z6WNb6yWn8OQDADgbCkO4TNTnTPza01eum0+zc/3fujW+N/eab2N9DOFuA3es69amXvuvcPIbo4P9O4d8v79je+vk92Px7noT8cCsiNtOzOIO2MniwtNB3LRNy5Mn9JFqc9v5CD2uuceCxUrNP+MJiZGqt0HIXLs7M5ySgfFFw56qwro8bjBI1yLCFFejI69hpOFgLrLA5lnLhksPTcqg5hd7uXhDrNlQzS5gomSWfcd4gJQVSrRbdcLJJopRO7IF0Lx8MQqZpoWS45eU46qjQXVt///M8TEdkBv3X3pzi4loyOo9Y2UNSN4933cutDtdAs1Kq2EKCLwikVZeBk/W7xi/94pfu0NN1EzItRu1ioahCTLO9bXAqHYpCMLCfopQmnegxQE6bWWP7+54+1KVoZrM3SxWuf+KJ1uP9ytn3uzDe+xKxR0EH/8Ma9O5VleQrXzpX+4UrwXw9DLKaJpeKef8fPLrd2lx9OPn7xudO/MPVPPnz/C50Fp8+cOXf+S9//7v/Lk5M0KyNbhJqBhWU5XiGNDWAaJh1bRhUblUr6g7EdKi/NRkni+m5ie5NINSsV27FOhrEjrSQ67Exu51nOmQWQZRJtRxSkI4WdgyesIsYMWsRR9u/+7I9PnXUuXSp93DLg6KXLDDKriNN6Fg6OuqBzNWk152o1r5aUi3Oz0708des122sO+pEPHiq5ud7eGzwuTllnZ2qZdvrtwah9a7gzjDlLWcWsFWC95BQLYjTsVmueqM1zwZEHnyw83ayOW8KGNOw7vW07VjwaDl2B4wFCZIBHqT053N1jZ9MtTDOrQjE4iVQnHZeKhhKnHERD2IhPFu5/Wq0It9XeFSQWl04NR+Nq1axNP++KV119BbA+HBzPld/88MH/+jy8Mjdz3bjJ8/B/O28uO7Jem3KU6j1//mt3j7fj/MDyUtuLJWgAW5EwOvNAm2xy1D7s9oZ/9ld/NjU1O1W+VApqFqiGTSNXGEcU6zWHgfs7efeo5Plxvo7y09W1iu6WM3ekOxcXptcePHxkTNxqpRCBVWHLs6VjOYXQ6OGo765VLq+tiKT2qLh4Eu1+pV49G0ab/bEbTowj4LdfeWU4NKrbPb1y6tad9cmgi3lSsPNRdxiP4lR0f/m1tdeu/0Zh8Qei+xvf/dGNtLhlN+woNnmcSVNwHb2wUM50vDfYKM5fN4bD7onc+OmliRwTakDLKDBKatCTdjJOYwbfFYrMuCCcILP5sJPMFx1BPRrrlCEusR3G4/z2PW6PXipZszVv7YWr1/Pc9Ea7zWxhdtE6zv7XP9096G6eW+bvfPnKq4Vic628djJ4dXtrp1F+88VzZ6pBTRBNosmTjTu2k/Gi98mTt2yR57EtMZMCM/CkAMk0Hh5nfBSmk1ppql5pAIiKE6xMNRxbN6aqscg/f3JDDLkUzOUolxZoN/kLg4+uLr5pokYnuD+1eDrcXr24dvXOg41BmGWaLGkhku87kcp9SxJ7o5G1u31ctNigtfH5/LnZtdX5mUl/Z9JwibgfD/75H/6+YxVmptZaUTY935ypY7O5YNdmPrhza31n58W183/nzd+c+D9I49U7j0ddtZnpTnm6Vszmlk5/cm4t2d1auHE/Omjts9SuxZN8FEWH0qBOEiDlaBIkGIVmpSxLl8pltGu5GuVRmkYjj0DHg/TkiOp13wtMZlW9C3l0qPHjqTPbp5fmm/jVmeKZUwsrSKCyKIXh/fwfPzl8evuDC5PtxXhm/ZvPf5WkRE5XG6/85I8fzJQPQJT3n+7VSt6dJ++38u/PVa9sjG/ute5Vg/lePhz0DiqFRj+xasVgtlIcjtGqks56hcnZ5bXF3d7WqcXG9XNnS6VKqVDa72Uf3P94Z//htVP+9vGD3ZOxXTYrjd9Ytn/tD/7qD3e6x56MG9VBEptSqTBRTLkCxjglwEyJfhizid0sop31vTyBU1eKzSWnWKq19vefPnnqTtcKZWeUm+PBIYlaknpFN1g7c2lmrn3m2q7B1pVXX/7DP6y8eG5mN/v+rTsHh0++3u4+AjFTnlo6tXRxa7MbZXsLswdZZ6oadIcB59qgGM6VV1uTPckp6VSykSjRRWkGoe2TLAtiIYUteargB9Fwv9PqXFoBheEkBu3YeTjEksrp8+WXPqkvTE47//t5+frK7IIt/XHUS0Rvj/9lCB+Fyao8fdvqy+dXfnumdmrCrQ31T/efvnhh6fTVK69YQek/v/X/LVbiT3d//JVX3rh+/Y2fjf/70s7lGTn/ravXf/ju+3liiV5htmxfP7+8NPulSTy49/C2rqe2xS+cWv3mS1+rN5qIwpa2DY6jlRVEj3c+iZMsT5UMCx2O/+QHPzza35UgkzzrxfEGb84sLpxESrERpBBNRiHn6bAVesJFFeiEbIuCsjhz/Wjnx4e3Hz6JxmM3jEvN+Zwz6evEhP00uruxfvX1YemFP7if7HUBynL21ev/l7L0D25cv32rEpqnIs/ZpGqUtO096fUPdxb/1f+nkmW7S4sl37ZHkWRWr114gVBKH92i7URsAkfqMM0no/riQiIxDyGDfsHxTT83Ec7MLi6cucTCDQ0lMiO0NrfuVeaO56dVpVxdtC7NBAuW9Bjo0cl7O+H/0jh7O9JhEq6fWksfblTubd2o3sLZqeBReut4vVopzL3/yY8m42z3+JGOW35gXj//NyXPTzqVYO5JmRc859TV81fubX46a9kvn714+cIVSUa0zOpafSf9wkqrv/jabzenl5U2CByn+cNH96putny1/+hehnHJsmpzS3Nx+nj9yWbgkUOV3A5FMHGtpemZtHyc9pRVcNyiT8YITIvD/qFKI8CsUhVqnIf79PRduXvncxfk0nIpytTkeNtyUi05cJTOhsuryfT5m+18L2IommIj+uba2lfqjdUkyoX1wY8++2ioxmmW2lKOR8cGYksUU7A02i9efUPIxzcf3xqk3UJgvvnCi7IcWL7DcYpCY0wiWJyPAg/SkfCO0nA0ST2ymmExWF1aVOXpkidLti+nnc0n91JMzq+9vuIuPd77LJ4xxamigTxV6UzxuUxcjeEnvaMgGTtOrFwyjVoYq/Cjjx62+flJ0nr5uS+9+/6Hx4cPKyvemE6en7neqK69d/v+8YNvuzN3V+ZnX1j79ukZGE2cenV+f2/vJ3/w+y9cWFqYW/vZze+innrp3Hy5tKANMxhJ4v7GxubObaNqh5tIHEtMQabDuHe4GZpUZ8LCwJq9as3PNwcPefPg3eXVBWQfYrvmNXxrOhrG6MQp0ihJc6MNmeOdLOuULMewk//Sr34pzYv/8t/9fsEOUpV5DkxPx7/5a6tUej8YfFV3G2eD37rY/A3bcg1nZd955fKlj+//uc7h7OLyYe9o6VSy09oSqolxwajK5n6nPT52fBXB8LH5rhOUpOeIggt1nwhd9qfHXnXQb3tZkka5HjmYS2OrHHl3/3DuylUNOfDJaBwwZCXP8Zr6Tuu27l0qrc4RQprTw/Wt1fnZq1O/9tbWR3Bo6nZEdPOVy9VT2S9tjU+WT1Wm4ey6ulFy6iZVC7NLs6fPHbYf/41v/Z/u7j/+i5/90Vdf/Hat9Avd7u6/+vyfffnFNxvVtVub9132C+VmbuRMY2UwIpGGRafqukKzkWhFqf7e2/8xC9ZtWUQu2KRSkRuTCZXVmgKWI3Tdy1/dWT03TB6cunDltOtdG0XRwcefhsNBBk6UD3IVR1E8zjRIK5xMjEZgSiexZXHJxs8fPApTOyHmLPVLvmJVKbjDcaXU+81G/uaDJ58unC25jq2UZhYG9Pbx40i2Ts1/6Ve/8dV//6N/ZgcTZ+pOeXHdfP7mZOLeePSIZUv4WbE6dZL73gHKct1Dx3Fd8gvBMJkJxyDibNDqm8yOJgrAOPa4Xm5IO0qt/aPBnJ1bayXHKlvuuaXkINjbffUXrn9jprw2jEY7h+/1Cn8EzqgQPgfSnxQ+7wz1Gsgo793f37H9YLl5vROlT3nmj7/3pyf9TmMJvbS7OPvyjfWtH9z6N0/7W+u7PlFhY//e+uGt9+++s3huIbMa+bC+PH32pPvk6fHnl1+8UKFfP33xJQYpiTvD4V+9/3anP+4epzNTJaJpSKYDLwvjSe8kFIGYeqkzSnu72/G15hvfuvB//vF7Xzx6Mu52JkmHGtPFse5HalCSwq+KQY99q+ZLMcmHjJkBYzIBOvj85qYG8F0U0pSD6lStdOHCq8f8aH/4nzfvT9p7Z7N8Iw9/9sqVVz3Lf7j9yYOdW1V/7cLa6uOnf9acITd/+fGHXS1V0T7yy3PFuqidcixaLgUzZHwvY+mWQJAsFG3hOxz7zWr55OA47OZ+2ZpaLEUpW1rOzBePRvvbD35QLLzMXFUTi/NSFLUJca7+6svPvflo+LMnh/96qelF1T/N4pnD/YdtffB0/Wq4L9t36I2L3z596ZVb9z473N3+4N6djZ12YnztV0c9E7vmEO989uC7/bCHJD5d/1AIi9m4VlGZdOvR+sxqOzZivLc7Gg8VnZw99Sbr0mc33zo7+4uTOPvDv/7ddz99r+ZPzVeeLwnH9Z1Cyewexa1ebLvGjOWTP3vOro/bsf9553zxhd3P3/s8nORxNDYUjQlyVpWqVH3fIFXKMu5rkg4KSyhQrEkK4WCUymTMrlMoVgPDujl77oR7afTjxVJ93LtCVjHH+UcH/RD+5fyaeXx0x8/OX5xZeNz9UTd7PFU667pL0vGyuDdMN2crolb2y1NpMS1xJzGJaW2MZIapQxYIEtIpBQ3p1EqBn80WgykvjkcmnUhyjTMsFCMva84HTWG5WUqDbpRGIxK8NLXYo4dvHf+TszV7Sx9bJxZOfuHOk3ddJzs13x56eLny65cWXlvf/2TM+58d/vRkcCEN1DgNMqUa5UrG1e7wznT1+FR94dFmW2tQbHKlksg2mU3GOnwQXn1+Oc6z44PMTFVv375TLNx47fLlyWTQDntBoVyvVs8sLdbKSzc/39DMG5tb/Yk6taKr59pPb4vaXOFkf8o3zs5W6w/u/TFmMQrEPPJ9mTG4BJg1wrgKuVNsJOweKJrUXEr6BJY3XfRXzhc+Xz9YWGpYHER5dPn06RcuffmdzX87o65Zra+BqgiHRmHk8HggPn4U9b8+8w8as9dzC8PtPWkfOyY+CfvLp2qjNi/OXirJuTyFnTvb9vHm3/vV/8PplWufffKWVJT7FhA7rNx6ZWr96e7B8RezS5XhpNcoDF96bur4MFCcuk7NtRuxONFoXJgfDjtnl2YGQ1Gwn96J/ofZxsQquJ89HL7s/2LVeTOgH6w1zjy//N8O4xumS92Tu4tBcfrcr7z/JG6ekvH+k0mkPMsFyx6FUZpZT+PH07MP3eXZw5tzoGQWUxpnKFhartJy777tFZ3pSnnQjbv9I6fQnSnkl5aeGw7blZWbrweN33zpv3vn3ducHw06ozhiIensmcb812+EKry4svbwJ9d6+2G41xaMQdG1EZBEFmm3TJUatLfzfDC2PRV1yaMKUjjExC3bBI6QTrFYPX8BpisLT+4fpWHcrM8Grrg4s/D86V9558OPZ8twNMieHqwfpVtnLzXD/eLD4UZzIT7dePVa8FsD9UI/+6LstEor1cKFr4wHlhvP3dz6WXsSNcS8ckrTC4sv2N/6/wNCxKhGFkvtzwAAAABJRU5ErkJggg==\n",
                "text/plain": "<PIL.Image.Image image mode=RGB size=128x85 at 0x7F8BDD2911D0>"
              }
            ],
            "_view_module": "@jupyter-widgets/output",
            "_model_module_version": "1.0.0",
            "_view_count": null,
            "_view_module_version": "1.0.0",
            "layout": "IPY_MODEL_e1a667eebe374213a8732134e4962ef3",
            "_model_module": "@jupyter-widgets/output"
          }
        },
        "7a665322591647688a4e38d3610672dd": {
          "model_module": "@jupyter-widgets/controls",
          "model_name": "LabelModel",
          "state": {
            "_view_name": "LabelView",
            "style": "IPY_MODEL_c889080a212e4bb48f60ef1ed8b087af",
            "_dom_classes": [],
            "description": "",
            "_model_name": "LabelModel",
            "placeholder": "​",
            "_view_module": "@jupyter-widgets/controls",
            "_model_module_version": "1.5.0",
            "value": "Prediction: Calandria Dorso Negro Mayor; Probability:0.6315",
            "_view_count": null,
            "_view_module_version": "1.5.0",
            "description_tooltip": null,
            "_model_module": "@jupyter-widgets/controls",
            "layout": "IPY_MODEL_10ff3cd970d9418180c76892e07ab1db"
          }
        },
        "912e5289efc9451c8ac585e5a323b054": {
          "model_module": "@jupyter-widgets/controls",
          "model_name": "DescriptionStyleModel",
          "state": {
            "_view_name": "StyleView",
            "_model_name": "DescriptionStyleModel",
            "description_width": "",
            "_view_module": "@jupyter-widgets/base",
            "_model_module_version": "1.5.0",
            "_view_count": null,
            "_view_module_version": "1.2.0",
            "_model_module": "@jupyter-widgets/controls"
          }
        },
        "1672182af530472497f0a2ff64a024f4": {
          "model_module": "@jupyter-widgets/base",
          "model_name": "LayoutModel",
          "state": {
            "_view_name": "LayoutView",
            "grid_template_rows": null,
            "right": null,
            "justify_content": null,
            "_view_module": "@jupyter-widgets/base",
            "overflow": null,
            "_model_module_version": "1.2.0",
            "_view_count": null,
            "flex_flow": null,
            "width": null,
            "min_width": null,
            "border": null,
            "align_items": null,
            "bottom": null,
            "_model_module": "@jupyter-widgets/base",
            "top": null,
            "grid_column": null,
            "overflow_y": null,
            "overflow_x": null,
            "grid_auto_flow": null,
            "grid_area": null,
            "grid_template_columns": null,
            "flex": null,
            "_model_name": "LayoutModel",
            "justify_items": null,
            "grid_row": null,
            "max_height": null,
            "align_content": null,
            "visibility": null,
            "align_self": null,
            "height": null,
            "min_height": null,
            "padding": null,
            "grid_auto_rows": null,
            "grid_gap": null,
            "max_width": null,
            "order": null,
            "_view_module_version": "1.2.0",
            "grid_template_areas": null,
            "object_position": null,
            "object_fit": null,
            "grid_auto_columns": null,
            "margin": null,
            "display": null,
            "left": null
          }
        },
        "4e26e372e7824ae8a84e47933dff7a4a": {
          "model_module": "@jupyter-widgets/controls",
          "model_name": "ButtonStyleModel",
          "state": {
            "_view_name": "StyleView",
            "_model_name": "ButtonStyleModel",
            "_view_module": "@jupyter-widgets/base",
            "_model_module_version": "1.5.0",
            "_view_count": null,
            "button_color": null,
            "font_weight": "",
            "_view_module_version": "1.2.0",
            "_model_module": "@jupyter-widgets/controls"
          }
        },
        "186fbc2fc48f4f3a9a96f58220e9ee1b": {
          "model_module": "@jupyter-widgets/base",
          "model_name": "LayoutModel",
          "state": {
            "_view_name": "LayoutView",
            "grid_template_rows": null,
            "right": null,
            "justify_content": null,
            "_view_module": "@jupyter-widgets/base",
            "overflow": null,
            "_model_module_version": "1.2.0",
            "_view_count": null,
            "flex_flow": null,
            "width": null,
            "min_width": null,
            "border": null,
            "align_items": null,
            "bottom": null,
            "_model_module": "@jupyter-widgets/base",
            "top": null,
            "grid_column": null,
            "overflow_y": null,
            "overflow_x": null,
            "grid_auto_flow": null,
            "grid_area": null,
            "grid_template_columns": null,
            "flex": null,
            "_model_name": "LayoutModel",
            "justify_items": null,
            "grid_row": null,
            "max_height": null,
            "align_content": null,
            "visibility": null,
            "align_self": null,
            "height": null,
            "min_height": null,
            "padding": null,
            "grid_auto_rows": null,
            "grid_gap": null,
            "max_width": null,
            "order": null,
            "_view_module_version": "1.2.0",
            "grid_template_areas": null,
            "object_position": null,
            "object_fit": null,
            "grid_auto_columns": null,
            "margin": null,
            "display": null,
            "left": null
          }
        },
        "c889080a212e4bb48f60ef1ed8b087af": {
          "model_module": "@jupyter-widgets/controls",
          "model_name": "DescriptionStyleModel",
          "state": {
            "_view_name": "StyleView",
            "_model_name": "DescriptionStyleModel",
            "description_width": "",
            "_view_module": "@jupyter-widgets/base",
            "_model_module_version": "1.5.0",
            "_view_count": null,
            "_view_module_version": "1.2.0",
            "_model_module": "@jupyter-widgets/controls"
          }
        },
        "10ff3cd970d9418180c76892e07ab1db": {
          "model_module": "@jupyter-widgets/base",
          "model_name": "LayoutModel",
          "state": {
            "_view_name": "LayoutView",
            "grid_template_rows": null,
            "right": null,
            "justify_content": null,
            "_view_module": "@jupyter-widgets/base",
            "overflow": null,
            "_model_module_version": "1.2.0",
            "_view_count": null,
            "flex_flow": null,
            "width": null,
            "min_width": null,
            "border": null,
            "align_items": null,
            "bottom": null,
            "_model_module": "@jupyter-widgets/base",
            "top": null,
            "grid_column": null,
            "overflow_y": null,
            "overflow_x": null,
            "grid_auto_flow": null,
            "grid_area": null,
            "grid_template_columns": null,
            "flex": null,
            "_model_name": "LayoutModel",
            "justify_items": null,
            "grid_row": null,
            "max_height": null,
            "align_content": null,
            "visibility": null,
            "align_self": null,
            "height": null,
            "min_height": null,
            "padding": null,
            "grid_auto_rows": null,
            "grid_gap": null,
            "max_width": null,
            "order": null,
            "_view_module_version": "1.2.0",
            "grid_template_areas": null,
            "object_position": null,
            "object_fit": null,
            "grid_auto_columns": null,
            "margin": null,
            "display": null,
            "left": null
          }
        },
        "e1a667eebe374213a8732134e4962ef3": {
          "model_module": "@jupyter-widgets/base",
          "model_name": "LayoutModel",
          "state": {
            "_view_name": "LayoutView",
            "grid_template_rows": null,
            "right": null,
            "justify_content": null,
            "_view_module": "@jupyter-widgets/base",
            "overflow": null,
            "_model_module_version": "1.2.0",
            "_view_count": null,
            "flex_flow": null,
            "width": null,
            "min_width": null,
            "border": null,
            "align_items": null,
            "bottom": null,
            "_model_module": "@jupyter-widgets/base",
            "top": null,
            "grid_column": null,
            "overflow_y": null,
            "overflow_x": null,
            "grid_auto_flow": null,
            "grid_area": null,
            "grid_template_columns": null,
            "flex": null,
            "_model_name": "LayoutModel",
            "justify_items": null,
            "grid_row": null,
            "max_height": null,
            "align_content": null,
            "visibility": null,
            "align_self": null,
            "height": null,
            "min_height": null,
            "padding": null,
            "grid_auto_rows": null,
            "grid_gap": null,
            "max_width": null,
            "order": null,
            "_view_module_version": "1.2.0",
            "grid_template_areas": null,
            "object_position": null,
            "object_fit": null,
            "grid_auto_columns": null,
            "margin": null,
            "display": null,
            "left": null
          }
        }
      }
    }
  },
  "cells": [
    {
      "cell_type": "code",
      "metadata": {
        "colab": {
          "base_uri": "https://localhost:8080/",
          "height": 252,
          "referenced_widgets": [
            "efc2cbf5ed394245a18b2f90e8f4ea1b",
            "9504500159844d778de70afc422dd523",
            "b1917f7101a541c39058e61fc78c9a3e",
            "031af820e13c43f1b0b792e61cce78f2",
            "bd7a65c9c8f04ef4ac4e27d3a45c03e8",
            "7a665322591647688a4e38d3610672dd",
            "912e5289efc9451c8ac585e5a323b054",
            "1672182af530472497f0a2ff64a024f4",
            "4e26e372e7824ae8a84e47933dff7a4a",
            "186fbc2fc48f4f3a9a96f58220e9ee1b",
            "c889080a212e4bb48f60ef1ed8b087af",
            "10ff3cd970d9418180c76892e07ab1db",
            "e1a667eebe374213a8732134e4962ef3"
          ]
        },
        "id": "-4ONOWWVKM8b",
        "outputId": "b614d3e5-c56d-44d5-a556-9784b194dedf"
      },
      "source": [
        "from fastai.vision.all import *\n",
        "from fastai.vision.widgets import *\n",
        "#Make the two text comments below a markdown in your notebook\n",
        "#Mexican Bird Identifier / Identificar Aves de Mexico\n",
        "#Select an image of a bird / Subir un foto de un ave para identificar\n",
        "\n",
        "path = Path()\n",
        "learn_inf = load_learner(path/'birds_33_err_333_classes.pkl', cpu=True)\n",
        "#declare a button,output,label widget\n",
        "btn_upload = widgets.FileUpload()\n",
        "out_pl = widgets.Output()\n",
        "lbl_pred = widgets.Label()\n",
        "#define an on_data_change function which execute when an image is #uploaded.It gets the image uploaded,display the image,make a #prediction of the image and output prediction, probability of #predictions\n",
        "def on_data_change(change):    \n",
        "    lbl_pred.value = ''     \n",
        "    img = PILImage.create(btn_upload.data[-1])     \n",
        "    out_pl.clear_output()     \n",
        "    with out_pl: display(img.to_thumb(128,128))     \n",
        "    pred,pred_idx,probs = learn_inf.predict(img)    \n",
        "    lbl_pred.value = f'Prediction: {pred}; Probability:{probs[pred_idx]:.04f}'\n",
        "#button to click to upload image\n",
        "btn_upload.observe(on_data_change, names=['data'])\n",
        "#display label,btn_upload,out_pl,lbl_pred vertically\n",
        "display(VBox([widgets.Label('Select an Image of Malaria Parasite!'), btn_upload, out_pl, lbl_pred]))"
      ],
      "execution_count": 4,
      "outputs": [
        {
          "output_type": "display_data",
          "data": {
            "application/vnd.jupyter.widget-view+json": {
              "model_id": "efc2cbf5ed394245a18b2f90e8f4ea1b",
              "version_minor": 0,
              "version_major": 2
            },
            "text/plain": [
              "VBox(children=(Label(value='Select an Image of Malaria Parasite!'), FileUpload(value={}, description='Upload')…"
            ]
          },
          "metadata": {
            "tags": []
          }
        },
        {
          "output_type": "display_data",
          "data": {
            "text/html": [
              ""
            ],
            "text/plain": [
              "<IPython.core.display.HTML object>"
            ]
          },
          "metadata": {
            "tags": []
          }
        },
        {
          "output_type": "stream",
          "text": [
            "/usr/local/lib/python3.7/dist-packages/torch/nn/functional.py:718: UserWarning: Named tensors and all their associated APIs are an experimental feature and subject to change. Please do not use them for anything important until they are released as stable. (Triggered internally at  /pytorch/c10/core/TensorImpl.h:1156.)\n",
            "  return torch.max_pool2d(input, kernel_size, stride, padding, dilation, ceil_mode)\n"
          ],
          "name": "stderr"
        }
      ]
    }
  ]
}