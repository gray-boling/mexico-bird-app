{
  "nbformat": 4,
  "nbformat_minor": 0,
  "metadata": {
    "colab": {
      "name": "app-display.ipynb",
      "provenance": []
    },
    "kernelspec": {
      "name": "python3",
      "display_name": "Python 3"
    },
    "language_info": {
      "name": "python"
    }
  },
  "cells": [
    {
      "cell_type": "code",
      "metadata": {
        "id": "-4ONOWWVKM8b"
      },
      "source": [
        "#import fastai.vision.all and vision.widgets to create widgets\n",
        "from fastai.vision.all import *\n",
        "from fastai.vision.wi\n",
        "#Make the two text comments below a markdown in your notebook\n",
        "#MX Bird Classifier\n",
        "#Will identify a pictured bird as one of 333 trained species\n",
        "#declare path and load our export.pkl file\n",
        "path = Path()\n",
        "learn_inf = load_learner(path, 'birds_37per_333_classes.pkl', cpu=True)\n",
        "#declare a button,output,label widget\n",
        "btn_upload = widgets.FileUpload()\n",
        "out_pl = widgets.Output()\n",
        "lbl_pred = widgets.Label()\n",
        "#define an on_data_change function which execute when an image is #uploaded.It gets the image uploaded,display the image,make a #prediction of the image and output prediction, probability of #predictions\n",
        "def on_data_change(change):\n",
        "    lbl_pred.value = ''\n",
        "    img = PILImage.create(btn_upload.data[-1])\n",
        "    out_pl.clear_output()\n",
        "    with out_pl: display(img.to_thumb(128,128))\n",
        "    pred,pred_idx,probs = learn_inf.predict(img)\n",
        "    lbl_pred.value = f'Prediction: {pred}; Probability:{probs[pred_idx]:.04f}'\n",
        "#button to click to upload image\n",
        "btn_upload.observe(on_data_change, names=['data'])\n",
        "#display label,btn_upload,out_pl,lbl_pred vertically\n",
        "display(VBox([widgets.Label('Select an Image of Malaria Parasite!'), btn_upload, out_pl, lbl_pred]))"
      ],
      "execution_count": null,
      "outputs": []
    }
  ]
}